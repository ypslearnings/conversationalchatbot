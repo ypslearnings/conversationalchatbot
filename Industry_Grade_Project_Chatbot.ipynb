{
  "cells": [
    {
      "cell_type": "markdown",
      "metadata": {
        "id": "Xx7CCJZKdcC2"
      },
      "source": [
        "# Building a Chatbot from Scratch"
      ]
    },
    {
      "cell_type": "code",
      "execution_count": 2,
      "metadata": {
        "colab": {
          "base_uri": "https://localhost:8080/"
        },
        "id": "gXhctcffDsE1",
        "outputId": "d8942bdf-b0c8-4125-c092-4d1fc50ebe37"
      },
      "outputs": [
        {
          "output_type": "stream",
          "name": "stdout",
          "text": [
            "Mounted at /content/drive\n"
          ]
        }
      ],
      "source": [
        "from google.colab import drive\n",
        "drive.mount('/content/drive')"
      ]
    },
    {
      "cell_type": "markdown",
      "metadata": {
        "id": "JsR2PuNPdcC5"
      },
      "source": [
        "##### In this project we will build a chatbot from scratch using the corenell University's Movie Dialogue corpus.\n",
        "##### We will be using a deep learning based architecture with the main components as a lstm based encoder and decoder."
      ]
    },
    {
      "cell_type": "code",
      "execution_count": 3,
      "metadata": {
        "id": "V7b5o0oxdcC7"
      },
      "outputs": [],
      "source": [
        "from keras.models import Model\n",
        "from keras.layers import LSTM, Dense, Input, Embedding\n",
        "from keras.layers import Dense, Input, Embedding\n",
        "from keras.preprocessing.sequence import pad_sequences\n",
        "from keras.callbacks import ModelCheckpoint\n",
        "from collections import Counter\n",
        "import nltk\n",
        "import numpy as np\n",
        "from sklearn.model_selection import train_test_split"
      ]
    },
    {
      "cell_type": "code",
      "execution_count": 5,
      "metadata": {
        "id": "_WFN5fXsdcDB"
      },
      "outputs": [],
      "source": [
        "import keras\n",
        "import nltk\n",
        "import numpy\n",
        "import sklearn"
      ]
    },
    {
      "cell_type": "markdown",
      "metadata": {
        "id": "gv38ReVtdcDO"
      },
      "source": [
        "Download the glove model available at https://nlp.stanford.edu/projects/glove/\n",
        "\n",
        "Specification : Twitter (2B tweets, 27B tokens, 1.2M vocab, uncased, 25d, 50d, 100d, & 200d vectors, 1.42 GB download): glove.twitter.27B.zip\n"
      ]
    },
    {
      "cell_type": "markdown",
      "metadata": {
        "id": "KXuwJNpGdcDQ"
      },
      "source": [
        "you can download it with 'wget' or can directly put the embedding zip file inside 'embedding_data' folder and unzip it."
      ]
    },
    {
      "cell_type": "code",
      "execution_count": null,
      "metadata": {
        "colab": {
          "base_uri": "https://localhost:8080/"
        },
        "id": "VHx1FnytdcDU",
        "outputId": "88adffdb-91bb-450a-fbcc-6f5f2b9f385f"
      },
      "outputs": [
        {
          "name": "stdout",
          "output_type": "stream",
          "text": [
            "  % Total    % Received % Xferd  Average Speed   Time    Time     Time  Current\n",
            "                                 Dload  Upload   Total   Spent    Left  Speed\n",
            "100 1449M  100 1449M    0     0  5152k      0  0:04:48  0:04:48 --:--:-- 5339k\n"
          ]
        }
      ],
      "source": [
        "! curl -o '/content/drive/MyDrive/Colab Notebooks/FinalProject/ChatBot/glove.twitter.27B.zip' http://downloads.cs.stanford.edu/nlp/data/glove.twitter.27B.zip"
      ]
    },
    {
      "cell_type": "code",
      "execution_count": null,
      "metadata": {
        "colab": {
          "base_uri": "https://localhost:8080/"
        },
        "id": "9WdsiHdOSniA",
        "outputId": "bed663a1-7a1b-4886-dacf-8d85a35b87b3"
      },
      "outputs": [
        {
          "name": "stdout",
          "output_type": "stream",
          "text": [
            "Archive:  /content/drive/MyDrive/Colab Notebooks/FinalProject/ChatBot/glove.twitter.27B.zip\n",
            "  inflating: /content/drive/MyDrive/Colab Notebooks/FinalProject/ChatBot/glovetwitter27B/glove.twitter.27B.25d.txt  \n",
            "  inflating: /content/drive/MyDrive/Colab Notebooks/FinalProject/ChatBot/glovetwitter27B/glove.twitter.27B.50d.txt  \n",
            "  inflating: /content/drive/MyDrive/Colab Notebooks/FinalProject/ChatBot/glovetwitter27B/glove.twitter.27B.100d.txt  \n",
            "  inflating: /content/drive/MyDrive/Colab Notebooks/FinalProject/ChatBot/glovetwitter27B/glove.twitter.27B.200d.txt  \n"
          ]
        }
      ],
      "source": [
        "!unzip '/content/drive/MyDrive/Colab Notebooks/FinalProject/ChatBot/glove.twitter.27B.zip' -d '/content/drive/MyDrive/Colab Notebooks/FinalProject/ChatBot/glovetwitter27B'"
      ]
    },
    {
      "cell_type": "code",
      "execution_count": 6,
      "metadata": {
        "id": "F_yG4mV2dcDZ"
      },
      "outputs": [],
      "source": [
        "RAND_STATE=np.random.seed(42)\n",
        "BATCH_SIZE = 32\n",
        "NUM_EPOCHS = 10\n",
        "GLOVE_EMBEDDING_SIZE = 100\n",
        "HIDDEN_UNITS = 256\n",
        "MAX_INPUT_SEQ_LENGTH = 40\n",
        "MAX_TARGET_SEQ_LENGTH = 40\n",
        "MAX_VOCAB_SIZE = 10000\n",
        "DATA_SET_NAME = '/content/drive/MyDrive/Colab Notebooks/FinalProject/ChatBot/cornell'\n",
        "DATA_PATH = '/content/drive/MyDrive/Colab Notebooks/FinalProject/ChatBot/cornell_movie_quotes_corpus/References/movie_lines_cleaned.txt'\n",
        "GLOVE_MODEL = \"/content/drive/MyDrive/Colab Notebooks/FinalProject/ChatBot/glovetwitter27B/glove.twitter.27B.100d.txt\"\n",
        "WHITELIST = 'abcdefghijklmnopqrstuvwxyz1234567890?.,'\n",
        "WEIGHT_FILE_PATH =  DATA_SET_NAME + '/word-glove-weights.h5'"
      ]
    },
    {
      "cell_type": "code",
      "execution_count": 7,
      "metadata": {
        "id": "nsku9GyddcDe"
      },
      "outputs": [],
      "source": [
        "def in_white_list(_word):\n",
        "    # Define the set of allowed characters\n",
        "    white_list_chars = set('abcdefghijklmnopqrstuvwxyz ABCDEFGHIJKLMNOPQRSTUVWXYZ1234567890')\n",
        "\n",
        "    # Check if every character in the word is in the whitelist\n",
        "    return all(char in white_list_chars for char in _word)"
      ]
    },
    {
      "cell_type": "markdown",
      "metadata": {
        "id": "xKA3WnoNdcDk"
      },
      "source": [
        "Load the glove word embedding in to a dictionary where the **key** is a unique **word token** and the **value** is a **d** dimension vector"
      ]
    },
    {
      "cell_type": "markdown",
      "metadata": {
        "id": "LQ6Q6VpHdcDn"
      },
      "source": [
        "# Test-1"
      ]
    },
    {
      "cell_type": "code",
      "execution_count": 8,
      "metadata": {
        "id": "_DtZYF8_dcDp"
      },
      "outputs": [],
      "source": [
        "import numpy as np\n",
        "\n",
        "def load_glove_vector():\n",
        "    _word2embedding = {}\n",
        "    file = open(GLOVE_MODEL, mode='rt', encoding='utf8')\n",
        "    for line in file:\n",
        "        parts = line.strip().split()\n",
        "        # Check if the line has an expected number of parts (1 word + 100 dimensions)\n",
        "        if len(parts) == 101:\n",
        "            word = parts[0]\n",
        "            vector = np.asarray(parts[1:], dtype='float32')\n",
        "            _word2embedding[word] = vector\n",
        "        else:\n",
        "            print(f\"Skipped line: {line.strip()}\")\n",
        "    file.close()\n",
        "    return _word2embedding"
      ]
    },
    {
      "cell_type": "code",
      "execution_count": 9,
      "metadata": {
        "colab": {
          "base_uri": "https://localhost:8080/"
        },
        "id": "jdoRZsWEdcDs",
        "outputId": "6d05e8e8-aab3-46f9-8907-81e5049f84ca"
      },
      "outputs": [
        {
          "output_type": "stream",
          "name": "stdout",
          "text": [
            "Skipped line: -0.32053 -0.73053 -0.15227 0.75504 0.11011 0.14091 0.047278 -1.0087 0.13282 -0.10939 -0.010336 0.32189 -1.4589 -0.83385 -0.52429 0.55353 0.054966 0.02489 0.066947 0.39403 -0.2942 -1.2322 -0.2594 -0.72149 0.3671 0.24201 0.023268 0.14087 0.60309 0.37282 0.40474 0.16387 1.5523 -0.28782 -0.26105 -0.83564 -0.031021 0.26182 -0.093516 -0.36343 -0.10013 -0.113 1.3461 -0.7571 -0.51527 -0.0099121 -0.34748 0.2534 0.43839 0.30234 0.0080009 0.51505 0.25082 -0.53778 0.20495 0.27272 0.13311 0.98437 -0.24143 0.041526 0.21953 -0.20118 0.068255 1.2481 -0.28648 -0.058264 0.18604 0.45244 0.36555 0.35107 0.78051 -0.20271 0.99956 -0.4688 -0.49431 -0.14843 0.0022548 -0.10625 -0.21541 -0.24243 -0.68123 -0.17896 -0.86271 0.74024 0.73827 0.4905 -0.71627 -0.49518 0.050481 -0.21521 -1.21 0.38652 -0.22538 0.52208 0.62189 0.44918 -0.229 0.045921 0.73164 -0.23074\n",
            "Number of words in GloVe: 1193513\n"
          ]
        }
      ],
      "source": [
        "word2embedding = load_glove_vector()\n",
        "print(\"Number of words in GloVe:\", len(word2embedding))"
      ]
    },
    {
      "cell_type": "markdown",
      "metadata": {
        "id": "Wu1WwP20dcDw"
      },
      "source": [
        "# Check-1"
      ]
    },
    {
      "cell_type": "code",
      "execution_count": 10,
      "metadata": {
        "id": "VknKfgmGdcDz"
      },
      "outputs": [],
      "source": [
        "assert len(word2embedding.keys())==1193513\n",
        "for key in word2embedding.keys():\n",
        "    try:\n",
        "        assert len(word2embedding[key])==100\n",
        "    except AssertionError:\n",
        "        print (key,len(word2embedding[key]))"
      ]
    },
    {
      "cell_type": "markdown",
      "metadata": {
        "id": "mCix18rAdcD7"
      },
      "source": [
        "# Data Preparation"
      ]
    },
    {
      "cell_type": "code",
      "execution_count": 11,
      "metadata": {
        "id": "bkKBqppEdcD8"
      },
      "outputs": [],
      "source": [
        "target_counter = Counter()\n",
        "lines = open(DATA_PATH, 'rt', encoding='utf8').read().split('\\n')\n",
        "input_texts = []\n",
        "target_texts = []\n",
        "prev_words = []"
      ]
    },
    {
      "cell_type": "code",
      "execution_count": 12,
      "metadata": {
        "colab": {
          "base_uri": "https://localhost:8080/"
        },
        "id": "vWgKEMi2ZPnv",
        "outputId": "6fd85144-c383-4247-b624-dcb1ec9b3956"
      },
      "outputs": [
        {
          "output_type": "stream",
          "name": "stderr",
          "text": [
            "[nltk_data] Downloading package punkt to /root/nltk_data...\n",
            "[nltk_data]   Unzipping tokenizers/punkt.zip.\n"
          ]
        },
        {
          "output_type": "execute_result",
          "data": {
            "text/plain": [
              "True"
            ]
          },
          "metadata": {},
          "execution_count": 12
        }
      ],
      "source": [
        "import nltk\n",
        "nltk.download('punkt')"
      ]
    },
    {
      "cell_type": "code",
      "execution_count": null,
      "metadata": {
        "id": "0FsdjO_jdcD_"
      },
      "outputs": [],
      "source": [
        "for line in lines:\n",
        "    next_words = [w.lower() for w in nltk.word_tokenize(line)]\n",
        "    if len(next_words) > MAX_TARGET_SEQ_LENGTH:\n",
        "        next_words = next_words[0:MAX_TARGET_SEQ_LENGTH]\n",
        "    if len(prev_words) > 0:\n",
        "        input_texts.append(prev_words)\n",
        "        target_words = next_words[:]\n",
        "        target_words.insert(0, 'start')\n",
        "        target_words.append('end')\n",
        "        for w in target_words:\n",
        "            target_counter[w] += 1\n",
        "        target_texts.append(target_words)\n",
        "    prev_words = next_words"
      ]
    },
    {
      "cell_type": "markdown",
      "metadata": {
        "id": "LcYFBgUIdcEF"
      },
      "source": [
        "Filter the conversations till max word length and convert the dialogues pairs into input text and target texts. Put **start** and **end** token to recognise the beginning and end of the sentence token.\n",
        "\n",
        "## Let's see some of the training examples"
      ]
    },
    {
      "cell_type": "code",
      "source": [
        "len(target_texts)"
      ],
      "metadata": {
        "colab": {
          "base_uri": "https://localhost:8080/"
        },
        "id": "uqZSDLTYeKf0",
        "outputId": "b64ba560-c600-4350-f152-35da51f0b0b4"
      },
      "execution_count": null,
      "outputs": [
        {
          "output_type": "execute_result",
          "data": {
            "text/plain": [
              "304446"
            ]
          },
          "metadata": {},
          "execution_count": 11
        }
      ]
    },
    {
      "cell_type": "code",
      "execution_count": null,
      "metadata": {
        "colab": {
          "base_uri": "https://localhost:8080/"
        },
        "id": "FiCxfQtBdcEG",
        "outputId": "52f5f3a5-a689-4773-fbbc-fd3085bbed06"
      },
      "outputs": [
        {
          "output_type": "stream",
          "name": "stdout",
          "text": [
            "[['they', 'do', 'not', '!'], ['start', 'they', 'do', 'to', '!', 'end']]\n",
            "[['they', 'do', 'to', '!'], ['start', 'i', 'hope', 'so', '.', 'end']]\n",
            "[['i', 'hope', 'so', '.'], ['start', 'she', 'okay', '?', 'end']]\n",
            "[['she', 'okay', '?'], ['start', 'let', \"'s\", 'go', '.', 'end']]\n",
            "[['let', \"'s\", 'go', '.'], ['start', 'wow', 'end']]\n",
            "[['wow'], ['start', 'okay', '--', 'you', \"'re\", 'gon', 'na', 'need', 'to', 'learn', 'how', 'to', 'lie', '.', 'end']]\n",
            "[['okay', '--', 'you', \"'re\", 'gon', 'na', 'need', 'to', 'learn', 'how', 'to', 'lie', '.'], ['start', 'no', 'end']]\n",
            "[['no'], ['start', 'i', \"'m\", 'kidding', '.', 'you', 'know', 'how', 'sometimes', 'you', 'just', 'become', 'this', '``', 'persona', \"''\", '?', 'and', 'you', 'do', \"n't\", 'know', 'how', 'to', 'quit', '?', 'end']]\n",
            "[['i', \"'m\", 'kidding', '.', 'you', 'know', 'how', 'sometimes', 'you', 'just', 'become', 'this', '``', 'persona', \"''\", '?', 'and', 'you', 'do', \"n't\", 'know', 'how', 'to', 'quit', '?'], ['start', 'like', 'my', 'fear', 'of', 'wearing', 'pastels', '?', 'end']]\n",
            "[['like', 'my', 'fear', 'of', 'wearing', 'pastels', '?'], ['start', 'the', '``', 'real', 'you', \"''\", '.', 'end']]\n"
          ]
        }
      ],
      "source": [
        "for idx, (input_words, target_words) in enumerate(zip(input_texts, target_texts)):\n",
        "  if idx < 10:\n",
        "    print([input_words, target_words])"
      ]
    },
    {
      "cell_type": "markdown",
      "metadata": {
        "id": "ksKxizS6dcEL"
      },
      "source": [
        "### Create two dictionaries\n",
        "<ol>\n",
        "<li>target_word2id\n",
        "<li>target_id2word\n",
        "</ol>\n",
        "and save it as NumPy file format in the disk.\n",
        "<p>\n",
        "<strong>NOTE:</strong> The ids should start from 1 beacause <strong>0</strong> is reserved for <strong>'unknown'</strong> tokens.\n",
        "Make sure you consider only the <strong>most common</strong> tokens with <strong>MAX_VOCAB_SIZE</strong> defined above.\n",
        "\n",
        "Most common refers to tokens with higher frequency.\n",
        "</p>\n",
        "<strong>Help:</strong>\n",
        "<ol>\n",
        "<li>Use the target_counter which have the token counts.  \n",
        "<li>Use target_counter.most_common(MAX_VOCAB_SIZE) to filter common tokens\n",
        "    </ol>"
      ]
    },
    {
      "cell_type": "code",
      "execution_count": null,
      "metadata": {
        "id": "Qc6oco8qdcEN"
      },
      "outputs": [],
      "source": [
        "import os\n",
        "\n",
        "# Initialize the dictionary with special tokens\n",
        "target_word2idx = {}\n",
        "\n",
        "# Start assigning indices from 1\n",
        "idx = 1\n",
        "\n",
        "# Sort the words in target_counter by frequency in descending order\n",
        "sorted_target_words = sorted(target_counter.most_common(MAX_VOCAB_SIZE), key=lambda x: x[1], reverse=True)\n",
        "\n",
        "for word, _ in sorted_target_words:\n",
        "    target_word2idx[word] = idx\n",
        "    idx += 1\n",
        "\n",
        "if 'unk' not in target_word2idx:\n",
        "    target_word2idx['unk'] = 0\n",
        "\n",
        "# Create target_idx2word dictionary\n",
        "target_idx2word = {idx: word for word, idx in target_word2idx.items()}\n",
        "\n",
        "# Create directory if it does not exist\n",
        "if not os.path.exists(DATA_SET_NAME):\n",
        "    os.makedirs(DATA_SET_NAME)\n",
        "\n",
        "np.save( DATA_SET_NAME + '/word-glove-target-word2idx.npy', target_word2idx)\n",
        "np.save( DATA_SET_NAME + '/word-glove-target-idx2word.npy', target_idx2word)"
      ]
    },
    {
      "cell_type": "markdown",
      "metadata": {
        "id": "6PzuUg4zdcER"
      },
      "source": [
        "# Check-2"
      ]
    },
    {
      "cell_type": "code",
      "execution_count": null,
      "metadata": {
        "id": "R7pikaJfdcEU"
      },
      "outputs": [],
      "source": [
        "assert len (target_word2idx.keys())==len (target_idx2word.keys())==MAX_VOCAB_SIZE+1"
      ]
    },
    {
      "cell_type": "markdown",
      "metadata": {
        "id": "2mw-Ly2xdcEc"
      },
      "source": [
        "# Prepare the input data with embedding\n",
        "The input data is a list of lists\n",
        "<ol>\n",
        "<li> First list is a list of sentences\n",
        "<li> Each sentence is a list of words\n",
        " </ol>"
      ]
    },
    {
      "cell_type": "code",
      "execution_count": null,
      "metadata": {
        "id": "oBmG1ea4dcEc",
        "outputId": "a867f10b-55a9-46fc-bc04-cc7c9a439b98",
        "colab": {
          "base_uri": "https://localhost:8080/"
        }
      },
      "outputs": [
        {
          "output_type": "stream",
          "name": "stdout",
          "text": [
            "{'num_decoder_tokens': 10001, 'encoder_max_seq_length': 40, 'decoder_max_seq_length': 42}\n"
          ]
        }
      ],
      "source": [
        "input_texts_word2em = []\n",
        "target_texts_word2em = []\n",
        "encoder_max_seq_length = 0\n",
        "decoder_max_seq_length = 0\n",
        "num_decoder_tokens = len(target_word2idx)\n",
        "EMBEDDING_DIM = 100  # Assuming each word is represented by a 100-dimensional vector\n",
        "\n",
        "for input_words, target_words in zip(input_texts, target_texts):\n",
        "    encoder_input_wids = []\n",
        "    encoder_target_wids = []\n",
        "    for w in input_words:\n",
        "        emb = word2embedding.get(w, word2embedding.get('unk', np.zeros(EMBEDDING_DIM)))\n",
        "        encoder_input_wids.append(emb)\n",
        "    for word in target_words:\n",
        "        emb = word2embedding.get(word, np.zeros(EMBEDDING_DIM))  # Get the embedding vector\n",
        "        encoder_target_wids.append(emb)\n",
        "\n",
        "    input_texts_word2em.append(encoder_input_wids)\n",
        "    target_texts_word2em.append(encoder_target_wids)\n",
        "    encoder_max_seq_length = max(len(encoder_input_wids), encoder_max_seq_length)\n",
        "    decoder_max_seq_length = max(len(target_words), decoder_max_seq_length)\n",
        "\n",
        "context = {\n",
        "    'num_decoder_tokens': num_decoder_tokens,\n",
        "    'encoder_max_seq_length': encoder_max_seq_length,\n",
        "    'decoder_max_seq_length': decoder_max_seq_length\n",
        "}\n",
        "\n",
        "print(context)\n",
        "np.save(DATA_SET_NAME + '/word-glove-context.npy', context)"
      ]
    },
    {
      "cell_type": "markdown",
      "metadata": {
        "id": "S8IJeZVkdcEg"
      },
      "source": [
        "# Check-3"
      ]
    },
    {
      "cell_type": "code",
      "execution_count": null,
      "metadata": {
        "id": "QXaPOQlddcEh"
      },
      "outputs": [],
      "source": [
        "for input_text,input_text_embed in zip (input_texts,range(len(input_texts_word2em))):\n",
        "    assert (len(input_text)==len(input_texts_word2em[input_text_embed]))"
      ]
    },
    {
      "cell_type": "markdown",
      "metadata": {
        "id": "GXh-5WEUdcEn"
      },
      "source": [
        "# Generate Training data per batch"
      ]
    },
    {
      "cell_type": "markdown",
      "metadata": {
        "id": "Gvg8LBt-dcEo"
      },
      "source": [
        "generate_batch takes input embedding data (input_word2em_data) and target text data (target_texts) and returns trainable X and Y.\n",
        "X is a list of [X1,X2]\n",
        "where\n",
        "X1 is encoder_input_data_batch( which is created by putting the word embedding(glove vector) of the input tokens) padded in to a shape of (BATCH_SIZE, encoder_max_seq_length, GLOVE_EMBEDDING_SIZE)\n",
        "\n",
        "X2 is decoder_input_data_batch which is created by putting the word embedding(glove vector) of the target_words tokens and padding it to a shape of (BATCH_SIZE, encoder_max_seq_length, GLOVE_EMBEDDING_SIZE)\n",
        "\n",
        "Y is decoder_target_data_batch which is in shape of (BATCH_SIZE, decoder_max_seq_length, num_decoder_tokens)\n",
        "which signifies for each target token text  in the batch we have an option of any token from the vocabularu to be the next predicted word"
      ]
    },
    {
      "cell_type": "code",
      "execution_count": null,
      "metadata": {
        "id": "37R_9qpHdcEp"
      },
      "outputs": [],
      "source": [
        "def generate_batch(input_word2em_data, output_text_data):\n",
        "    num_batches = len(input_word2em_data) // BATCH_SIZE\n",
        "    while True:  # Loop forever so the generator never terminates\n",
        "        for batchIdx in range(0, num_batches):\n",
        "            start = batchIdx * BATCH_SIZE\n",
        "            end = (batchIdx + 1) * BATCH_SIZE\n",
        "            encoder_input_data_batch = np.zeros((BATCH_SIZE, encoder_max_seq_length, GLOVE_EMBEDDING_SIZE), dtype='float32')\n",
        "            decoder_input_data_batch = np.zeros((BATCH_SIZE, decoder_max_seq_length, GLOVE_EMBEDDING_SIZE), dtype='float32')\n",
        "            decoder_target_data_batch = np.zeros((BATCH_SIZE, decoder_max_seq_length, num_decoder_tokens), dtype='float32')\n",
        "\n",
        "            for lineIdx, (input_text, output_text) in enumerate(zip(input_word2em_data[start:end], output_text_data[start:end])):\n",
        "              for wordIdx, word in enumerate(input_text):\n",
        "                  # Ensure word is a string\n",
        "                  if isinstance(word, str):\n",
        "                      encoder_input_data_batch[lineIdx, wordIdx, :] = word2embedding.get(word, np.zeros((GLOVE_EMBEDDING_SIZE,)))\n",
        "              for wordIdx, word in enumerate(output_text):\n",
        "                  # Ensure word is a string\n",
        "                  if isinstance(word, str):\n",
        "                      decoder_input_data_batch[lineIdx, wordIdx, :] = word2embedding.get(word, np.zeros((GLOVE_EMBEDDING_SIZE,)))\n",
        "                      # Use index for 'unk' if word is not in target_word2idx\n",
        "                      target_idx = target_word2idx.get(word, target_word2idx['unk'])\n",
        "                      if wordIdx > 0:\n",
        "                          decoder_target_data_batch[lineIdx, wordIdx - 1, target_idx] = 1\n",
        "            yield [encoder_input_data_batch, decoder_input_data_batch], decoder_target_data_batch"
      ]
    },
    {
      "cell_type": "markdown",
      "metadata": {
        "id": "EGjnjiyidcEt"
      },
      "source": [
        "# Check-4"
      ]
    },
    {
      "cell_type": "code",
      "execution_count": null,
      "metadata": {
        "id": "Ezag0feRdcEu"
      },
      "outputs": [],
      "source": [
        "Xtrain, Xtest, Ytrain, Ytest = train_test_split(input_texts_word2em, target_texts, test_size=0.2, random_state=42)"
      ]
    },
    {
      "cell_type": "code",
      "source": [
        "train_gen = generate_batch(Xtrain, Ytrain)"
      ],
      "metadata": {
        "id": "HAeRtJxd8GCC"
      },
      "execution_count": null,
      "outputs": []
    },
    {
      "cell_type": "code",
      "source": [
        "for i,j in train_gen:\n",
        "    assert i[0].shape==(BATCH_SIZE,context['encoder_max_seq_length'],GLOVE_EMBEDDING_SIZE)\n",
        "    assert i[1].shape==(BATCH_SIZE,context['decoder_max_seq_length'],GLOVE_EMBEDDING_SIZE)\n",
        "    assert j.shape==(BATCH_SIZE,context['decoder_max_seq_length'],context['num_decoder_tokens'])\n",
        "print ('Test Case 4 Passes!')"
      ],
      "metadata": {
        "colab": {
          "base_uri": "https://localhost:8080/"
        },
        "id": "OemLFgBAtlDk",
        "outputId": "c23ba375-72ec-414b-e1f5-6be4a16a16ad"
      },
      "execution_count": null,
      "outputs": [
        {
          "output_type": "stream",
          "name": "stdout",
          "text": [
            "Test Case 4 Passes!\n"
          ]
        }
      ]
    },
    {
      "cell_type": "markdown",
      "metadata": {
        "id": "jazC-goddcEx"
      },
      "source": [
        "# Model Architecture"
      ]
    },
    {
      "cell_type": "code",
      "execution_count": null,
      "metadata": {
        "id": "lab5ddRGdcEy",
        "outputId": "d714ab20-50ac-459b-f71a-899be270657d"
      },
      "outputs": [
        {
          "data": {
            "image/png": "[encoded data removed]",
            "text/plain": [
              "<IPython.core.display.Image object>"
            ]
          },
          "execution_count": 18,
          "metadata": {
            "image/png": {
              "height": 400,
              "width": 400
            },
            "tags": []
          },
          "output_type": "execute_result"
        }
      ],
      "source": [
        "from keras.utils import plot_model\n",
        "plot_model(model, to_file='model.png')\n",
        "from IPython.display import Image\n",
        "Image(filename='model.png',height=400,width=400)"
      ]
    },
    {
      "cell_type": "markdown",
      "metadata": {
        "id": "FKnqwC4ndcE4"
      },
      "source": [
        "# The Model architecture is explained in the diagram above"
      ]
    },
    {
      "cell_type": "markdown",
      "metadata": {
        "id": "P8VfVTm4dcE6"
      },
      "source": [
        "# Test-5"
      ]
    },
    {
      "cell_type": "markdown",
      "metadata": {
        "id": "oUJbRP9SdcE8"
      },
      "source": [
        "<ol>\n",
        "<li> Step 1: Use a LSTM encoder to get input words encoded in the form of (encoder outputs, encoder hidden state, encoder context) from input words\n",
        "<li> Step 2:  Use a LSTM decoder to get target words encoded in the form of (decoder outputs, decoder hidden state, decoder context) from target words. Use encoder hidden states and encoder context (represents input memory) as initial state .\n",
        "<li> Step 3: Use a dense layer to predict the next token out of the vocabulary given decoder output generated by Step 2.\n",
        "<li> Step 4: Use loss ='categorical_crossentropy' and optimizer='rmsprop'\n",
        "</ol>"
      ]
    },
    {
      "cell_type": "code",
      "execution_count": null,
      "metadata": {
        "id": "gU974rtIdcE9"
      },
      "outputs": [],
      "source": [
        "from keras.models import Model\n",
        "from keras.layers import Input, LSTM, Dense\n",
        "import numpy as np\n",
        "\n",
        "# Define parameters\n",
        "EMBEDDING_SIZE = 100\n",
        "ENCODER_UNITS = 256\n",
        "DECODER_UNITS = 256\n",
        "VOCAB_SIZE = 10002\n",
        "\n",
        "# Encoder\n",
        "encoder_inputs = Input(shape=(None, EMBEDDING_SIZE), name='encoder_inputs')\n",
        "encoder_lstm = LSTM(ENCODER_UNITS, return_state=True, name='encoder_lstm')\n",
        "encoder_outputs, state_h, state_c = encoder_lstm(encoder_inputs)\n",
        "encoder_states = [state_h, state_c]\n",
        "\n",
        "# Decoder\n",
        "decoder_inputs = Input(shape=(None, EMBEDDING_SIZE), name='decoder_inputs')\n",
        "decoder_lstm = LSTM(DECODER_UNITS, return_sequences=True, return_state=True, name='decoder_lstm')\n",
        "decoder_outputs, _, _ = decoder_lstm(decoder_inputs, initial_state=encoder_states)\n",
        "decoder_dense = Dense(VOCAB_SIZE, activation='softmax', name='decoder_dense')\n",
        "decoder_outputs = decoder_dense(decoder_outputs)\n",
        "\n",
        "# Define the model that will turn `encoder_inputs` & `decoder_inputs` into `decoder_outputs`\n",
        "model = Model([encoder_inputs, decoder_inputs], decoder_outputs)\n",
        "\n",
        "# Compile the model\n",
        "model.compile(optimizer='rmsprop', loss='categorical_crossentropy')"
      ]
    },
    {
      "cell_type": "markdown",
      "metadata": {
        "id": "pnNAPfQFdcFG"
      },
      "source": [
        "# Check-5"
      ]
    },
    {
      "cell_type": "markdown",
      "metadata": {
        "id": "ecKi6g5MdcFI"
      },
      "source": [
        "Check the model summary should look like this"
      ]
    },
    {
      "cell_type": "code",
      "source": [
        "# Summary of the model\n",
        "model.summary()"
      ],
      "metadata": {
        "colab": {
          "base_uri": "https://localhost:8080/"
        },
        "id": "9mN4E4Jy5Jjw",
        "outputId": "490ed4e1-53cb-4276-d4f1-139c63b275de"
      },
      "execution_count": null,
      "outputs": [
        {
          "output_type": "stream",
          "name": "stdout",
          "text": [
            "Model: \"model\"\n",
            "__________________________________________________________________________________________________\n",
            " Layer (type)                Output Shape                 Param #   Connected to                  \n",
            "==================================================================================================\n",
            " encoder_inputs (InputLayer  [(None, None, 100)]          0         []                            \n",
            " )                                                                                                \n",
            "                                                                                                  \n",
            " decoder_inputs (InputLayer  [(None, None, 100)]          0         []                            \n",
            " )                                                                                                \n",
            "                                                                                                  \n",
            " encoder_lstm (LSTM)         [(None, 256),                365568    ['encoder_inputs[0][0]']      \n",
            "                              (None, 256),                                                        \n",
            "                              (None, 256)]                                                        \n",
            "                                                                                                  \n",
            " decoder_lstm (LSTM)         [(None, None, 256),          365568    ['decoder_inputs[0][0]',      \n",
            "                              (None, 256),                           'encoder_lstm[0][1]',        \n",
            "                              (None, 256)]                           'encoder_lstm[0][2]']        \n",
            "                                                                                                  \n",
            " decoder_dense (Dense)       (None, None, 10002)          2570514   ['decoder_lstm[0][0]']        \n",
            "                                                                                                  \n",
            "==================================================================================================\n",
            "Total params: 3301650 (12.59 MB)\n",
            "Trainable params: 3301650 (12.59 MB)\n",
            "Non-trainable params: 0 (0.00 Byte)\n",
            "__________________________________________________________________________________________________\n"
          ]
        }
      ]
    },
    {
      "cell_type": "markdown",
      "source": [
        "# Train\n"
      ],
      "metadata": {
        "id": "e1aWGy8_5sZC"
      }
    },
    {
      "cell_type": "code",
      "source": [
        "# Train the model\n",
        "BATCH_SIZE = 64  # Set the batch size\n",
        "EPOCHS = 30  # Set the number of epochs\n",
        "\n",
        "model.fit([input_texts_word2em, target_texts_word2em], Ytrain,\n",
        "          batch_size=BATCH_SIZE,\n",
        "          epochs=EPOCHS,\n",
        "          validation_split=0.2)"
      ],
      "metadata": {
        "id": "4_MYVQdW5zTu"
      },
      "execution_count": null,
      "outputs": []
    },
    {
      "cell_type": "markdown",
      "metadata": {
        "id": "eOTTSdcndcFS"
      },
      "source": [
        "# Prediction"
      ]
    },
    {
      "cell_type": "markdown",
      "source": [
        "## Encoder model"
      ],
      "metadata": {
        "id": "cSvt7xPb-C4N"
      }
    },
    {
      "cell_type": "code",
      "source": [
        "# Encoder takes the same input as your seq2seq model's encoder\n",
        "encoder_inputs = model.input[0]  # encoder_inputs layer\n",
        "\n",
        "# Get the output of the encoder LSTM layer, which are the states\n",
        "encoder_outputs, state_h_enc, state_c_enc = model.layers[2].output  # encoder_lstm layer\n",
        "\n",
        "# The states are used as the encoder model's output\n",
        "encoder_states = [state_h_enc, state_c_enc]\n",
        "encoder_model = Model(encoder_inputs, encoder_states)"
      ],
      "metadata": {
        "id": "b9Y7HBCR-B7t"
      },
      "execution_count": null,
      "outputs": []
    },
    {
      "cell_type": "markdown",
      "source": [
        "## Decoder model"
      ],
      "metadata": {
        "id": "hLv7PDps-GkV"
      }
    },
    {
      "cell_type": "code",
      "source": [
        "# Decoder takes the same input as your seq2seq model's decoder\n",
        "decoder_inputs = model.input[1]  # decoder_inputs layer\n",
        "\n",
        "# Additional inputs for the states from the encoder\n",
        "decoder_state_input_h = Input(shape=(256,))  # Same as LSTM state size\n",
        "decoder_state_input_c = Input(shape=(256,))  # Same as LSTM state size\n",
        "decoder_states_inputs = [decoder_state_input_h, decoder_state_input_c]\n",
        "\n",
        "# Reuse the decoder LSTM layer from the trained model\n",
        "decoder_lstm = model.layers[3]  # decoder_lstm layer\n",
        "decoder_outputs, state_h_dec, state_c_dec = decoder_lstm(\n",
        "    decoder_inputs, initial_state=decoder_states_inputs)\n",
        "decoder_states = [state_h_dec, state_c_dec]\n",
        "\n",
        "# Reuse the decoder Dense layer from the trained model\n",
        "decoder_dense = model.layers[4]  # decoder_dense layer\n",
        "decoder_outputs = decoder_dense(decoder_outputs)\n",
        "\n",
        "# The decoder model takes the decoder's inputs and the initial states and outputs the decoded sequence and the new states\n",
        "decoder_model = Model(\n",
        "    [decoder_inputs] + decoder_states_inputs,\n",
        "    [decoder_outputs] + decoder_states)"
      ],
      "metadata": {
        "id": "QCQVIMAm-Iin"
      },
      "execution_count": null,
      "outputs": []
    },
    {
      "cell_type": "code",
      "source": [
        "max_decoder_seq_length = 0\n",
        "for target_text in target_texts:\n",
        "    max_decoder_seq_length = max(max_decoder_seq_length, len(target_text))\n",
        "\n",
        "print(\"Maximum sequence length for the decoder:\", max_decoder_seq_length)"
      ],
      "metadata": {
        "colab": {
          "base_uri": "https://localhost:8080/"
        },
        "id": "TbkSAF_r-dKO",
        "outputId": "a3b43497-8d7b-428e-e6fb-74fb64454b1b"
      },
      "execution_count": null,
      "outputs": [
        {
          "output_type": "stream",
          "name": "stdout",
          "text": [
            "Maximum sequence length for the decoder: 42\n"
          ]
        }
      ]
    },
    {
      "cell_type": "code",
      "source": [
        "def decode_sequence(input_seq):\n",
        "    # Encode the input as state vectors\n",
        "    states_value = encoder_model.predict(input_seq)\n",
        "\n",
        "    # Generate empty target sequence of length 1 with only the start-of-sequence word\n",
        "    target_seq = np.zeros((1, 1, EMBEDDING_SIZE))\n",
        "    target_seq[0, 0] = word2embedding.get('<start>', np.zeros(EMBEDDING_SIZE))  # Handle missing embedding\n",
        "\n",
        "    # Loop and predict next words\n",
        "    stop_condition = False\n",
        "    decoded_sentence = []\n",
        "    while not stop_condition:\n",
        "      output_tokens, h, c = decoder_model.predict([target_seq] + states_value)\n",
        "\n",
        "      # Sample the next word\n",
        "      sampled_token_index = np.argmax(output_tokens[0, -1, :])\n",
        "      sampled_word = target_idx2word.get(sampled_token_index, 'unk')  # Translate index to word\n",
        "\n",
        "      # Exit condition: either hit max length or find the stop character\n",
        "      if (sampled_word == '<end>' or len(decoded_sentence) > max_decoder_seq_length):\n",
        "          stop_condition = True\n",
        "      else:\n",
        "          decoded_sentence.append(sampled_word)\n",
        "\n",
        "          # Update the target sequence (of length 1)\n",
        "          target_seq = np.zeros((1, 1, EMBEDDING_SIZE))\n",
        "          target_seq[0, 0] = word2embedding.get(sampled_word, np.zeros(EMBEDDING_SIZE))  # Handle missing embedding\n",
        "\n",
        "          # Update states\n",
        "          states_value = [h, c]\n",
        "\n",
        "    return decoded_sentence"
      ],
      "metadata": {
        "id": "ah4ZSgpH8bB_"
      },
      "execution_count": null,
      "outputs": []
    },
    {
      "cell_type": "markdown",
      "source": [
        "## Test"
      ],
      "metadata": {
        "id": "ZgilWuH_-shR"
      }
    },
    {
      "cell_type": "code",
      "source": [
        "input_text = \"Of all the words my father wrote - and there were many - I remember these the most: \\\"Nothing that results from human progress is achieved with unanimous consent. And those who are enlightened before the others are condemned to persue that light in spite of others. 1697 Of all the words my Father wrote and there were many, I remember these the most.  \\\"Nothing that results from human progress is achieved with unanimous consent...\\\"\"\n",
        "input_words = nltk.word_tokenize(input_text.lower())\n",
        "print(input_words)\n",
        "# Convert words to embeddings\n",
        "encoder_input_seq = np.zeros((1, encoder_max_seq_length, GLOVE_EMBEDDING_SIZE), dtype='float32')\n",
        "for i, word in enumerate(input_words):\n",
        "    if i < encoder_max_seq_length:\n",
        "        encoder_input_seq[0, i, :] = word2embedding.get(word, np.zeros((GLOVE_EMBEDDING_SIZE,)))\n",
        "print(\"Encoded input sentence\", encoder_input_seq)\n",
        "# Decode the sequence\n",
        "decoded_sentence = decode_sequence(encoder_input_seq)\n",
        "\n",
        "# Convert list of words back to a sentence\n",
        "decoded_sentence = ' '.join(decoded_sentence)\n",
        "print(\"Decoded sentence:\", decoded_sentence)"
      ],
      "metadata": {
        "colab": {
          "base_uri": "https://localhost:8080/"
        },
        "id": "KOjSJcC78c1z",
        "outputId": "e3c68015-03a8-49ae-a346-3bc9c5784895"
      },
      "execution_count": null,
      "outputs": [
        {
          "output_type": "stream",
          "name": "stdout",
          "text": [
            "['of', 'all', 'the', 'words', 'my', 'father', 'wrote', '-', 'and', 'there', 'were', 'many', '-', 'i', 'remember', 'these', 'the', 'most', ':', '``', 'nothing', 'that', 'results', 'from', 'human', 'progress', 'is', 'achieved', 'with', 'unanimous', 'consent', '.', 'and', 'those', 'who', 'are', 'enlightened', 'before', 'the', 'others', 'are', 'condemned', 'to', 'persue', 'that', 'light', 'in', 'spite', 'of', 'others', '.', '1697', 'of', 'all', 'the', 'words', 'my', 'father', 'wrote', 'and', 'there', 'were', 'many', ',', 'i', 'remember', 'these', 'the', 'most', '.', '``', 'nothing', 'that', 'results', 'from', 'human', 'progress', 'is', 'achieved', 'with', 'unanimous', 'consent', '...', \"''\"]\n",
            "Encoded input sentence [[[ 1.9323e-01 -2.6532e-01  2.3104e-01 ... -3.2829e-01  1.1387e+00\n",
            "    5.3168e-01]\n",
            "  [-4.2218e-01  1.6193e-01 -1.1836e-01 ... -3.2872e-01  6.6699e-01\n",
            "    1.6698e-01]\n",
            "  [ 9.5152e-02  3.7024e-01  5.4291e-01 ... -5.1083e-01  4.6877e-01\n",
            "    3.4882e-01]\n",
            "  ...\n",
            "  [ 2.3646e-01  2.3314e-01  9.8568e-03 ... -1.8920e-01  1.5352e-01\n",
            "    2.3014e-02]\n",
            "  [ 9.5152e-02  3.7024e-01  5.4291e-01 ... -5.1083e-01  4.6877e-01\n",
            "    3.4882e-01]\n",
            "  [-2.4833e-01  4.1618e-01  9.0800e-05 ... -1.3131e+00  2.2348e-01\n",
            "   -4.1199e-01]]]\n",
            "1/1 [==============================] - 0s 19ms/step\n",
            "1/1 [==============================] - 0s 20ms/step\n",
            "1/1 [==============================] - 0s 20ms/step\n",
            "1/1 [==============================] - 0s 20ms/step\n",
            "1/1 [==============================] - 0s 20ms/step\n",
            "1/1 [==============================] - 0s 21ms/step\n",
            "1/1 [==============================] - 0s 21ms/step\n",
            "1/1 [==============================] - 0s 27ms/step\n",
            "1/1 [==============================] - 0s 24ms/step\n",
            "1/1 [==============================] - 0s 21ms/step\n",
            "1/1 [==============================] - 0s 20ms/step\n",
            "1/1 [==============================] - 0s 20ms/step\n",
            "1/1 [==============================] - 0s 19ms/step\n",
            "1/1 [==============================] - 0s 20ms/step\n",
            "1/1 [==============================] - 0s 19ms/step\n",
            "1/1 [==============================] - 0s 23ms/step\n",
            "1/1 [==============================] - 0s 21ms/step\n",
            "1/1 [==============================] - 0s 21ms/step\n",
            "1/1 [==============================] - 0s 20ms/step\n",
            "1/1 [==============================] - 0s 22ms/step\n",
            "1/1 [==============================] - 0s 21ms/step\n",
            "1/1 [==============================] - 0s 20ms/step\n",
            "1/1 [==============================] - 0s 19ms/step\n",
            "1/1 [==============================] - 0s 21ms/step\n",
            "1/1 [==============================] - 0s 20ms/step\n",
            "1/1 [==============================] - 0s 21ms/step\n",
            "1/1 [==============================] - 0s 20ms/step\n",
            "1/1 [==============================] - 0s 23ms/step\n",
            "1/1 [==============================] - 0s 20ms/step\n",
            "1/1 [==============================] - 0s 20ms/step\n",
            "1/1 [==============================] - 0s 21ms/step\n",
            "1/1 [==============================] - 0s 20ms/step\n",
            "1/1 [==============================] - 0s 19ms/step\n",
            "1/1 [==============================] - 0s 23ms/step\n",
            "1/1 [==============================] - 0s 23ms/step\n",
            "1/1 [==============================] - 0s 21ms/step\n",
            "1/1 [==============================] - 0s 22ms/step\n",
            "1/1 [==============================] - 0s 22ms/step\n",
            "1/1 [==============================] - 0s 23ms/step\n",
            "1/1 [==============================] - 0s 22ms/step\n",
            "1/1 [==============================] - 0s 21ms/step\n",
            "1/1 [==============================] - 0s 21ms/step\n",
            "1/1 [==============================] - 0s 21ms/step\n",
            "1/1 [==============================] - 0s 19ms/step\n",
            "1/1 [==============================] - 0s 20ms/step\n",
            "Decoded sentence: los tank why b odds pegged sector dante otis pitch bloody hollis pegged chum chum experimental insists questioned breaks breaks pegged breaks pegged breaks pegged breaks n't pegged breaks financial pegged breaks bloody financial otis grendel swedish swedish scaring amigo scary clive grendel\n"
          ]
        }
      ]
    }
  ],
  "metadata": {
    "accelerator": "GPU",
    "colab": {
      "provenance": []
    },
    "kernelspec": {
      "display_name": "Python 3",
      "name": "python3"
    },
    "language_info": {
      "codemirror_mode": {
        "name": "ipython",
        "version": 3
      },
      "file_extension": ".py",
      "mimetype": "text/x-python",
      "name": "python",
      "nbconvert_exporter": "python",
      "pygments_lexer": "ipython3",
      "version": "3.8.8"
    }
  },
  "nbformat": 4,
  "nbformat_minor": 0
}